{
 "cells": [
  {
   "cell_type": "markdown",
   "metadata": {},
   "source": [
    "This is a script to automatically convert json-asr-results to textgrids."
   ]
  },
  {
   "cell_type": "code",
   "execution_count": 27,
   "metadata": {},
   "outputs": [],
   "source": [
    "import glob\n",
    "import pandas as pd\n",
    "import os\n",
    "import json\n",
    "import numpy as np\n",
    "import tgt\n",
    "import librosa"
   ]
  },
  {
   "cell_type": "code",
   "execution_count": 29,
   "metadata": {},
   "outputs": [],
   "source": [
    "jsonAsrResultsDir = '/vol/bigdata3/datasets3/dutch_child_audio/dart/preposttest_final/05_asr_experiments/whispert_dis_prompts/json-asr-results'\n",
    "audioDir = '/vol/bigdata3/datasets3/dutch_child_audio/dart/preposttest_final/02_audio_renamed'"
   ]
  },
  {
   "cell_type": "code",
   "execution_count": 39,
   "metadata": {},
   "outputs": [],
   "source": [
    "def readWhisperToutputJSON(jsonFile):\n",
    "    with open(jsonFile, 'r') as f:\n",
    "        data = json.load(f)\n",
    "    return data\n",
    "\n",
    "def obj2interval(obj):\n",
    "    start = obj['start']\n",
    "    end = obj['end']\n",
    "    txt = obj['text']\n",
    "\n",
    "    return tgt.core.Interval(start, end, text=txt)\n",
    "\n",
    "def obj2intervalConf(obj):\n",
    "    start = obj['start']\n",
    "    end = obj['end']\n",
    "    txt = str(obj['confidence'])\n",
    "\n",
    "    return tgt.core.Interval(start, end, text=txt)"
   ]
  },
  {
   "cell_type": "code",
   "execution_count": 40,
   "metadata": {},
   "outputs": [],
   "source": [
    "# List input files\n",
    "jsonAsrResultsList = glob.glob(os.path.join(jsonAsrResultsDir, '*.json'))\n",
    "\n",
    "# Create output directory\n",
    "outputDir = jsonAsrResultsDir.replace('json-asr-results', 'json-asr-results-as-tg')\n",
    "if not os.path.exists(outputDir):\n",
    "    os.makedirs(outputDir)\n",
    "\n",
    "# Convert each json file to a TextGrid file\n",
    "for jsonAsrResult in jsonAsrResultsList[0:3]:\n",
    "\n",
    "    # Get basename of file\n",
    "    basename = os.path.basename(jsonAsrResult).replace('.json', '')\n",
    "\n",
    "    # Read JSON file\n",
    "    data = readWhisperToutputJSON(jsonAsrResult)\n",
    "\n",
    "    # Extract duration of corresponding audio file\n",
    "    audioPath = os.path.join(audioDir, basename + '.mp3')\n",
    "    y, sr = librosa.load(audioPath, sr=16000)\n",
    "    durLibrosa = librosa.get_duration(y=y, sr=sr)\n",
    "\n",
    "    # Extract features from JSON file\n",
    "    segments = data['segments']\n",
    "\n",
    "    # Create Segment Tier\n",
    "    segments_intervals = [obj2interval(segment) for segment in segments]\n",
    "    segmentsTier = tgt.core.IntervalTier(start_time=0.0, end_time=durLibrosa, name='segments', objects=None)\n",
    "    segmentsTier.add_intervals(segments_intervals)\n",
    "\n",
    "    # Create Words Tier (with disfluecies)\n",
    "    items = [segment['words'] for segment in segments]\n",
    "    items_flatten = [word for words_segment in items for word in words_segment]\n",
    "    items_flatten_intervals = [obj2interval(obj) for obj in items_flatten]\n",
    "    wordsDisTier = tgt.core.IntervalTier(start_time=0.0, end_time=durLibrosa, name='wordsDis', objects=None)\n",
    "    wordsDisTier.add_intervals(items_flatten_intervals)\n",
    "\n",
    "    # Create Words Tier (without disfluecies)\n",
    "    words = [item for item in items_flatten if item['text'] != \"[*]\"]\n",
    "    words_intervals = [obj2interval(obj) for obj in words]\n",
    "    wordsTier = tgt.core.IntervalTier(start_time=0.0, end_time=durLibrosa, name='words', objects=None)\n",
    "    wordsTier.add_intervals(words_intervals)\n",
    "\n",
    "    # Create words confidence score tier\n",
    "    conf_intervals = [obj2intervalConf(obj) for obj in words]\n",
    "    confTier = tgt.core.IntervalTier(start_time=0.0, end_time=durLibrosa, name='conf', objects=None)\n",
    "    confTier.add_intervals(conf_intervals)\n",
    "\n",
    "    # Add all tiers to TextGrid\n",
    "    tg = tgt.core.TextGrid()\n",
    "    tg.add_tier(wordsDisTier)\n",
    "    tg.add_tier(wordsTier)\n",
    "    tg.add_tier(confTier)\n",
    "    tg.add_tier(segmentsTier)\n",
    "\n",
    "    # Write TextGrid\n",
    "    outputFile = os.path.join(outputDir, basename + '.TextGrid')\n",
    "    tgt.io.write_to_file(tg, outputFile, format='long', encoding='utf-8')"
   ]
  },
  {
   "cell_type": "code",
   "execution_count": null,
   "metadata": {},
   "outputs": [],
   "source": []
  }
 ],
 "metadata": {
  "kernelspec": {
   "display_name": "virenv-wav2vec2",
   "language": "python",
   "name": "python3"
  },
  "language_info": {
   "codemirror_mode": {
    "name": "ipython",
    "version": 3
   },
   "file_extension": ".py",
   "mimetype": "text/x-python",
   "name": "python",
   "nbconvert_exporter": "python",
   "pygments_lexer": "ipython3",
   "version": "3.10.12"
  }
 },
 "nbformat": 4,
 "nbformat_minor": 2
}
